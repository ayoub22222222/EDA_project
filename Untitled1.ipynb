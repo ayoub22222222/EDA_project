{
 "cells": [
  {
   "cell_type": "markdown",
   "id": "8042e6c5-32c1-4cf4-a748-3f11f70cecd6",
   "metadata": {},
   "source": [
    "## step 0: import data and reanding it"
   ]
  },
  {
   "cell_type": "code",
   "execution_count": 1,
   "id": "dd148b23-9951-4730-bed3-fc4283edbf96",
   "metadata": {},
   "outputs": [],
   "source": [
    "import pandas as pd \n",
    "import numpy as np\n",
    "import matplotlib.pylab as plt\n",
    "import seaborn as sns \n",
    "import statsmodels.api as sm\n"
   ]
  },
  {
   "cell_type": "code",
   "execution_count": 2,
   "id": "d9da8c4a-c564-4e11-b1cc-144eb7bd8f77",
   "metadata": {},
   "outputs": [],
   "source": [
    "plt.style.use('ggplot')\n",
    "# pd.set_option('max_columns', 200) "
   ]
  },
  {
   "cell_type": "code",
   "execution_count": 3,
   "id": "0d70240d-4824-409c-b29d-449cf6a0b060",
   "metadata": {
    "scrolled": true
   },
   "outputs": [
    {
     "name": "stdout",
     "output_type": "stream",
     "text": [
      "['anes96', 'cancer', 'committee', 'ccard', 'copper', 'cpunish', 'elnino', 'engel', 'grunfeld', 'interest_inflation', 'longley', 'macrodata', 'modechoice', 'nile', 'randhie', 'scotland', 'spector', 'stackloss', 'star98', 'strikes', 'sunspots', 'fair', 'heart', 'statecrime', 'co2', 'fertility', 'china_smoking', 'get_rdataset', 'get_data_home', 'clear_data_home', 'webuse', 'check_internet', 'test', 'danish_data']\n"
     ]
    }
   ],
   "source": [
    "print(sm.datasets.__all__)\n"
   ]
  },
  {
   "cell_type": "code",
   "execution_count": 4,
   "id": "6376635f-5a36-4daf-832a-569c391c07f3",
   "metadata": {},
   "outputs": [],
   "source": [
    "macro_data = sm.datasets.macrodata.load().data"
   ]
  },
  {
   "cell_type": "code",
   "execution_count": 6,
   "id": "3d5bad63-cde5-4ce9-9616-fec05cb3ce34",
   "metadata": {},
   "outputs": [
    {
     "data": {
      "text/plain": [
       "(5, 14)"
      ]
     },
     "execution_count": 6,
     "metadata": {},
     "output_type": "execute_result"
    }
   ],
   "source": [
    "macro_data.head().shape"
   ]
  },
  {
   "cell_type": "code",
   "execution_count": 7,
   "id": "e8c2dd0f-e041-4c28-a6e7-56757ffc1ec7",
   "metadata": {},
   "outputs": [
    {
     "name": "stdout",
     "output_type": "stream",
     "text": [
      "Index(['year', 'quarter', 'realgdp', 'realcons', 'realinv', 'realgovt',\n",
      "       'realdpi', 'cpi', 'm1', 'tbilrate', 'unemp', 'pop', 'infl', 'realint'],\n",
      "      dtype='object')\n"
     ]
    }
   ],
   "source": [
    "print(macro_data.columns)"
   ]
  },
  {
   "cell_type": "markdown",
   "id": "1054bb4d-310a-4f3a-bb75-2ef217d1e796",
   "metadata": {},
   "source": [
    "# Explanation of Column Abbreviations in the `interest_inflation` Dataset\n",
    "\n",
    "Here’s a breakdown of each abbreviation from the `interest_inflation` dataset:\n",
    "\n",
    "1. **`year`**: The year in which the data is recorded.\n",
    "\n",
    "2. **`quarter`**: The quarter of the year (1 for Q1, 2 for Q2, 3 for Q3, and 4 for Q4).\n",
    "\n",
    "3. **`realgdp`**: **Real Gross Domestic Product (GDP)** - A measure of a country’s economic output adjusted for inflation.\n",
    "\n",
    "4. **`realcons`**: **Real Consumption** - Represents the consumption of goods and services by households, adjusted for inflation.\n",
    "\n",
    "5. **`realinv`**: **Real Investment** - Refers to business investments in capital (e.g., machinery, buildings) adjusted for inflation.\n",
    "\n",
    "6. **`realgovt`**: **Real Government Expenditure** - Measures government spending on goods and services, adjusted for inflation.\n",
    "\n",
    "7. **`realdpi`**: **Real Disposable Personal Income** - The income households have after taxes, adjusted for inflation.\n",
    "\n",
    "8. **`cpi`**: **Consumer Price Index (CPI)** - Measures the average change over time in the prices paid by consumers for a basket of goods and services.\n",
    "\n",
    "9. **`m1`**: **M1 Money Supply** - Represents the most liquid portions of the money supply, including physical currency and demand deposits.\n",
    "\n",
    "10. **`tbilrate`**: **Treasury Bill Rate** - The interest rate on short-term U.S. government debt securities.\n",
    "\n",
    "11. **`unemp`**: **Unemployment Rate** - The percentage of the labor force that is unemployed and actively seeking employment.\n",
    "\n",
    "12. **`pop`**: **Population** - Indicates the total population of the country or region under study.\n",
    "\n",
    "13. **`infl`**: **Inflation Rate** - The rate at which the general level of prices for goods and services rises.\n",
    "\n",
    "14. **`realint`**: **Real Interest Rate** - The nominal interest rate adjusted for inflation.\n",
    "\n",
    "### Summary\n",
    "- `realgdp`, `realcons`, `realinv`, `realgovt`, `realdpi`: \"Real\" means these are inflation-adjusted values.\n",
    "- `cpi`, `infl`: Both relate to inflation.\n",
    "- `m1`: Refers to the liquid part of the money supply.\n",
    "- `tbilrate`: Relates to interest rates on Treasury bills.\n",
    "- `unemp`: The unemployment rate, a common economic indicator.\n"
   ]
  },
  {
   "cell_type": "markdown",
   "id": "b278401d-3306-4fa2-b486-fe6f5529b682",
   "metadata": {},
   "source": [
    "## understand the data \n",
    "`DataFarame`: shape\n",
    "`head`: and tail\n",
    "`dtypes`\n",
    "`decsribe`"
   ]
  },
  {
   "cell_type": "code",
   "execution_count": 8,
   "id": "4ab2df8b-9ee1-4e1e-8942-f93dc6019419",
   "metadata": {},
   "outputs": [
    {
     "data": {
      "text/plain": [
       "(203, 14)"
      ]
     },
     "execution_count": 8,
     "metadata": {},
     "output_type": "execute_result"
    }
   ],
   "source": [
    "macro_data.shape"
   ]
  },
  {
   "cell_type": "code",
   "execution_count": 60,
   "id": "79c79b70-d6a1-4f70-b5ce-488af02e4226",
   "metadata": {},
   "outputs": [],
   "source": [
    "df_test = macro_data.query('year == 2009.0 and quarter in [1.0, 2.0, 3.0]')\n",
    "df_test2 = macro_data.query('year == 2008.0 and quarter in [1.0, 2.0, 3.0]')"
   ]
  },
  {
   "cell_type": "code",
   "execution_count": 59,
   "id": "8738cbfe-0053-4109-8738-b6360ad24bea",
   "metadata": {},
   "outputs": [
    {
     "data": {
      "text/html": [
       "<div>\n",
       "<style scoped>\n",
       "    .dataframe tbody tr th:only-of-type {\n",
       "        vertical-align: middle;\n",
       "    }\n",
       "\n",
       "    .dataframe tbody tr th {\n",
       "        vertical-align: top;\n",
       "    }\n",
       "\n",
       "    .dataframe thead th {\n",
       "        text-align: right;\n",
       "    }\n",
       "</style>\n",
       "<table border=\"1\" class=\"dataframe\">\n",
       "  <thead>\n",
       "    <tr style=\"text-align: right;\">\n",
       "      <th></th>\n",
       "      <th>year</th>\n",
       "      <th>quarter</th>\n",
       "      <th>realgdp</th>\n",
       "      <th>realcons</th>\n",
       "      <th>realinv</th>\n",
       "      <th>realgovt</th>\n",
       "      <th>realdpi</th>\n",
       "      <th>cpi</th>\n",
       "      <th>m1</th>\n",
       "      <th>tbilrate</th>\n",
       "      <th>unemp</th>\n",
       "      <th>pop</th>\n",
       "      <th>infl</th>\n",
       "      <th>realint</th>\n",
       "    </tr>\n",
       "  </thead>\n",
       "  <tbody>\n",
       "    <tr>\n",
       "      <th>200</th>\n",
       "      <td>2009.0</td>\n",
       "      <td>1.0</td>\n",
       "      <td>12925.410</td>\n",
       "      <td>9209.2</td>\n",
       "      <td>1558.494</td>\n",
       "      <td>996.287</td>\n",
       "      <td>9926.4</td>\n",
       "      <td>212.671</td>\n",
       "      <td>1592.8</td>\n",
       "      <td>0.22</td>\n",
       "      <td>8.1</td>\n",
       "      <td>306.547</td>\n",
       "      <td>0.94</td>\n",
       "      <td>-0.71</td>\n",
       "    </tr>\n",
       "    <tr>\n",
       "      <th>201</th>\n",
       "      <td>2009.0</td>\n",
       "      <td>2.0</td>\n",
       "      <td>12901.504</td>\n",
       "      <td>9189.0</td>\n",
       "      <td>1456.678</td>\n",
       "      <td>1023.528</td>\n",
       "      <td>10077.5</td>\n",
       "      <td>214.469</td>\n",
       "      <td>1653.6</td>\n",
       "      <td>0.18</td>\n",
       "      <td>9.2</td>\n",
       "      <td>307.226</td>\n",
       "      <td>3.37</td>\n",
       "      <td>-3.19</td>\n",
       "    </tr>\n",
       "    <tr>\n",
       "      <th>202</th>\n",
       "      <td>2009.0</td>\n",
       "      <td>3.0</td>\n",
       "      <td>12990.341</td>\n",
       "      <td>9256.0</td>\n",
       "      <td>1486.398</td>\n",
       "      <td>1044.088</td>\n",
       "      <td>10040.6</td>\n",
       "      <td>216.385</td>\n",
       "      <td>1673.9</td>\n",
       "      <td>0.12</td>\n",
       "      <td>9.6</td>\n",
       "      <td>308.013</td>\n",
       "      <td>3.56</td>\n",
       "      <td>-3.44</td>\n",
       "    </tr>\n",
       "  </tbody>\n",
       "</table>\n",
       "</div>"
      ],
      "text/plain": [
       "       year  quarter    realgdp  realcons   realinv  realgovt  realdpi  \\\n",
       "200  2009.0      1.0  12925.410    9209.2  1558.494   996.287   9926.4   \n",
       "201  2009.0      2.0  12901.504    9189.0  1456.678  1023.528  10077.5   \n",
       "202  2009.0      3.0  12990.341    9256.0  1486.398  1044.088  10040.6   \n",
       "\n",
       "         cpi      m1  tbilrate  unemp      pop  infl  realint  \n",
       "200  212.671  1592.8      0.22    8.1  306.547  0.94    -0.71  \n",
       "201  214.469  1653.6      0.18    9.2  307.226  3.37    -3.19  \n",
       "202  216.385  1673.9      0.12    9.6  308.013  3.56    -3.44  "
      ]
     },
     "execution_count": 59,
     "metadata": {},
     "output_type": "execute_result"
    }
   ],
   "source": [
    "df_test"
   ]
  },
  {
   "cell_type": "code",
   "execution_count": 61,
   "id": "91063501-a612-4322-bd3b-d9285cf7ceb2",
   "metadata": {},
   "outputs": [
    {
     "data": {
      "text/html": [
       "<div>\n",
       "<style scoped>\n",
       "    .dataframe tbody tr th:only-of-type {\n",
       "        vertical-align: middle;\n",
       "    }\n",
       "\n",
       "    .dataframe tbody tr th {\n",
       "        vertical-align: top;\n",
       "    }\n",
       "\n",
       "    .dataframe thead th {\n",
       "        text-align: right;\n",
       "    }\n",
       "</style>\n",
       "<table border=\"1\" class=\"dataframe\">\n",
       "  <thead>\n",
       "    <tr style=\"text-align: right;\">\n",
       "      <th></th>\n",
       "      <th>year</th>\n",
       "      <th>quarter</th>\n",
       "      <th>realgdp</th>\n",
       "      <th>realcons</th>\n",
       "      <th>realinv</th>\n",
       "      <th>realgovt</th>\n",
       "      <th>realdpi</th>\n",
       "      <th>cpi</th>\n",
       "      <th>m1</th>\n",
       "      <th>tbilrate</th>\n",
       "      <th>unemp</th>\n",
       "      <th>pop</th>\n",
       "      <th>infl</th>\n",
       "      <th>realint</th>\n",
       "    </tr>\n",
       "  </thead>\n",
       "  <tbody>\n",
       "    <tr>\n",
       "      <th>196</th>\n",
       "      <td>2008.0</td>\n",
       "      <td>1.0</td>\n",
       "      <td>13366.865</td>\n",
       "      <td>9349.6</td>\n",
       "      <td>2082.886</td>\n",
       "      <td>943.372</td>\n",
       "      <td>9826.8</td>\n",
       "      <td>213.997</td>\n",
       "      <td>1384.0</td>\n",
       "      <td>1.56</td>\n",
       "      <td>4.9</td>\n",
       "      <td>303.803</td>\n",
       "      <td>2.82</td>\n",
       "      <td>-1.26</td>\n",
       "    </tr>\n",
       "    <tr>\n",
       "      <th>197</th>\n",
       "      <td>2008.0</td>\n",
       "      <td>2.0</td>\n",
       "      <td>13415.266</td>\n",
       "      <td>9351.0</td>\n",
       "      <td>2026.518</td>\n",
       "      <td>961.280</td>\n",
       "      <td>10059.0</td>\n",
       "      <td>218.610</td>\n",
       "      <td>1409.3</td>\n",
       "      <td>1.74</td>\n",
       "      <td>5.4</td>\n",
       "      <td>304.483</td>\n",
       "      <td>8.53</td>\n",
       "      <td>-6.79</td>\n",
       "    </tr>\n",
       "    <tr>\n",
       "      <th>198</th>\n",
       "      <td>2008.0</td>\n",
       "      <td>3.0</td>\n",
       "      <td>13324.600</td>\n",
       "      <td>9267.7</td>\n",
       "      <td>1990.693</td>\n",
       "      <td>991.551</td>\n",
       "      <td>9838.3</td>\n",
       "      <td>216.889</td>\n",
       "      <td>1474.7</td>\n",
       "      <td>1.17</td>\n",
       "      <td>6.0</td>\n",
       "      <td>305.270</td>\n",
       "      <td>-3.16</td>\n",
       "      <td>4.33</td>\n",
       "    </tr>\n",
       "  </tbody>\n",
       "</table>\n",
       "</div>"
      ],
      "text/plain": [
       "       year  quarter    realgdp  realcons   realinv  realgovt  realdpi  \\\n",
       "196  2008.0      1.0  13366.865    9349.6  2082.886   943.372   9826.8   \n",
       "197  2008.0      2.0  13415.266    9351.0  2026.518   961.280  10059.0   \n",
       "198  2008.0      3.0  13324.600    9267.7  1990.693   991.551   9838.3   \n",
       "\n",
       "         cpi      m1  tbilrate  unemp      pop  infl  realint  \n",
       "196  213.997  1384.0      1.56    4.9  303.803  2.82    -1.26  \n",
       "197  218.610  1409.3      1.74    5.4  304.483  8.53    -6.79  \n",
       "198  216.889  1474.7      1.17    6.0  305.270 -3.16     4.33  "
      ]
     },
     "execution_count": 61,
     "metadata": {},
     "output_type": "execute_result"
    }
   ],
   "source": [
    "df_test2"
   ]
  },
  {
   "cell_type": "code",
   "execution_count": 38,
   "id": "dc8eef2c-9a73-4799-b419-a914373346e4",
   "metadata": {},
   "outputs": [
    {
     "data": {
      "text/html": [
       "<div>\n",
       "<style scoped>\n",
       "    .dataframe tbody tr th:only-of-type {\n",
       "        vertical-align: middle;\n",
       "    }\n",
       "\n",
       "    .dataframe tbody tr th {\n",
       "        vertical-align: top;\n",
       "    }\n",
       "\n",
       "    .dataframe thead th {\n",
       "        text-align: right;\n",
       "    }\n",
       "</style>\n",
       "<table border=\"1\" class=\"dataframe\">\n",
       "  <thead>\n",
       "    <tr style=\"text-align: right;\">\n",
       "      <th></th>\n",
       "      <th>year</th>\n",
       "      <th>quarter</th>\n",
       "      <th>realgdp</th>\n",
       "      <th>realcons</th>\n",
       "      <th>realinv</th>\n",
       "      <th>realgovt</th>\n",
       "      <th>realdpi</th>\n",
       "      <th>cpi</th>\n",
       "      <th>m1</th>\n",
       "      <th>tbilrate</th>\n",
       "      <th>unemp</th>\n",
       "      <th>pop</th>\n",
       "      <th>infl</th>\n",
       "      <th>realint</th>\n",
       "    </tr>\n",
       "  </thead>\n",
       "  <tbody>\n",
       "    <tr>\n",
       "      <th>198</th>\n",
       "      <td>2008.0</td>\n",
       "      <td>3.0</td>\n",
       "      <td>13324.600</td>\n",
       "      <td>9267.7</td>\n",
       "      <td>1990.693</td>\n",
       "      <td>991.551</td>\n",
       "      <td>9838.3</td>\n",
       "      <td>216.889</td>\n",
       "      <td>1474.7</td>\n",
       "      <td>1.17</td>\n",
       "      <td>6.0</td>\n",
       "      <td>305.270</td>\n",
       "      <td>-3.16</td>\n",
       "      <td>4.33</td>\n",
       "    </tr>\n",
       "    <tr>\n",
       "      <th>199</th>\n",
       "      <td>2008.0</td>\n",
       "      <td>4.0</td>\n",
       "      <td>13141.920</td>\n",
       "      <td>9195.3</td>\n",
       "      <td>1857.661</td>\n",
       "      <td>1007.273</td>\n",
       "      <td>9920.4</td>\n",
       "      <td>212.174</td>\n",
       "      <td>1576.5</td>\n",
       "      <td>0.12</td>\n",
       "      <td>6.9</td>\n",
       "      <td>305.952</td>\n",
       "      <td>-8.79</td>\n",
       "      <td>8.91</td>\n",
       "    </tr>\n",
       "    <tr>\n",
       "      <th>200</th>\n",
       "      <td>2009.0</td>\n",
       "      <td>1.0</td>\n",
       "      <td>12925.410</td>\n",
       "      <td>9209.2</td>\n",
       "      <td>1558.494</td>\n",
       "      <td>996.287</td>\n",
       "      <td>9926.4</td>\n",
       "      <td>212.671</td>\n",
       "      <td>1592.8</td>\n",
       "      <td>0.22</td>\n",
       "      <td>8.1</td>\n",
       "      <td>306.547</td>\n",
       "      <td>0.94</td>\n",
       "      <td>-0.71</td>\n",
       "    </tr>\n",
       "    <tr>\n",
       "      <th>201</th>\n",
       "      <td>2009.0</td>\n",
       "      <td>2.0</td>\n",
       "      <td>12901.504</td>\n",
       "      <td>9189.0</td>\n",
       "      <td>1456.678</td>\n",
       "      <td>1023.528</td>\n",
       "      <td>10077.5</td>\n",
       "      <td>214.469</td>\n",
       "      <td>1653.6</td>\n",
       "      <td>0.18</td>\n",
       "      <td>9.2</td>\n",
       "      <td>307.226</td>\n",
       "      <td>3.37</td>\n",
       "      <td>-3.19</td>\n",
       "    </tr>\n",
       "    <tr>\n",
       "      <th>202</th>\n",
       "      <td>2009.0</td>\n",
       "      <td>3.0</td>\n",
       "      <td>12990.341</td>\n",
       "      <td>9256.0</td>\n",
       "      <td>1486.398</td>\n",
       "      <td>1044.088</td>\n",
       "      <td>10040.6</td>\n",
       "      <td>216.385</td>\n",
       "      <td>1673.9</td>\n",
       "      <td>0.12</td>\n",
       "      <td>9.6</td>\n",
       "      <td>308.013</td>\n",
       "      <td>3.56</td>\n",
       "      <td>-3.44</td>\n",
       "    </tr>\n",
       "  </tbody>\n",
       "</table>\n",
       "</div>"
      ],
      "text/plain": [
       "       year  quarter    realgdp  realcons   realinv  realgovt  realdpi  \\\n",
       "198  2008.0      3.0  13324.600    9267.7  1990.693   991.551   9838.3   \n",
       "199  2008.0      4.0  13141.920    9195.3  1857.661  1007.273   9920.4   \n",
       "200  2009.0      1.0  12925.410    9209.2  1558.494   996.287   9926.4   \n",
       "201  2009.0      2.0  12901.504    9189.0  1456.678  1023.528  10077.5   \n",
       "202  2009.0      3.0  12990.341    9256.0  1486.398  1044.088  10040.6   \n",
       "\n",
       "         cpi      m1  tbilrate  unemp      pop  infl  realint  \n",
       "198  216.889  1474.7      1.17    6.0  305.270 -3.16     4.33  \n",
       "199  212.174  1576.5      0.12    6.9  305.952 -8.79     8.91  \n",
       "200  212.671  1592.8      0.22    8.1  306.547  0.94    -0.71  \n",
       "201  214.469  1653.6      0.18    9.2  307.226  3.37    -3.19  \n",
       "202  216.385  1673.9      0.12    9.6  308.013  3.56    -3.44  "
      ]
     },
     "execution_count": 38,
     "metadata": {},
     "output_type": "execute_result"
    }
   ],
   "source": [
    "macro_data.tail()"
   ]
  },
  {
   "cell_type": "code",
   "execution_count": 17,
   "id": "0648ba86-1bff-426e-b12a-723e6ab43029",
   "metadata": {},
   "outputs": [
    {
     "data": {
      "text/html": [
       "<div>\n",
       "<style scoped>\n",
       "    .dataframe tbody tr th:only-of-type {\n",
       "        vertical-align: middle;\n",
       "    }\n",
       "\n",
       "    .dataframe tbody tr th {\n",
       "        vertical-align: top;\n",
       "    }\n",
       "\n",
       "    .dataframe thead th {\n",
       "        text-align: right;\n",
       "    }\n",
       "</style>\n",
       "<table border=\"1\" class=\"dataframe\">\n",
       "  <thead>\n",
       "    <tr style=\"text-align: right;\">\n",
       "      <th></th>\n",
       "      <th>count</th>\n",
       "      <th>mean</th>\n",
       "      <th>std</th>\n",
       "      <th>min</th>\n",
       "      <th>25%</th>\n",
       "      <th>50%</th>\n",
       "      <th>75%</th>\n",
       "      <th>max</th>\n",
       "    </tr>\n",
       "  </thead>\n",
       "  <tbody>\n",
       "    <tr>\n",
       "      <th>year</th>\n",
       "      <td>203.0</td>\n",
       "      <td>1983.876847</td>\n",
       "      <td>14.686817</td>\n",
       "      <td>1959.000</td>\n",
       "      <td>1971.0000</td>\n",
       "      <td>1984.000</td>\n",
       "      <td>1996.5000</td>\n",
       "      <td>2009.000</td>\n",
       "    </tr>\n",
       "    <tr>\n",
       "      <th>quarter</th>\n",
       "      <td>203.0</td>\n",
       "      <td>2.492611</td>\n",
       "      <td>1.118563</td>\n",
       "      <td>1.000</td>\n",
       "      <td>1.5000</td>\n",
       "      <td>2.000</td>\n",
       "      <td>3.0000</td>\n",
       "      <td>4.000</td>\n",
       "    </tr>\n",
       "    <tr>\n",
       "      <th>realgdp</th>\n",
       "      <td>203.0</td>\n",
       "      <td>7221.171901</td>\n",
       "      <td>3214.956044</td>\n",
       "      <td>2710.349</td>\n",
       "      <td>4440.1035</td>\n",
       "      <td>6559.594</td>\n",
       "      <td>9629.3465</td>\n",
       "      <td>13415.266</td>\n",
       "    </tr>\n",
       "    <tr>\n",
       "      <th>realcons</th>\n",
       "      <td>203.0</td>\n",
       "      <td>4825.293103</td>\n",
       "      <td>2313.346192</td>\n",
       "      <td>1707.400</td>\n",
       "      <td>2874.1000</td>\n",
       "      <td>4299.900</td>\n",
       "      <td>6398.1500</td>\n",
       "      <td>9363.600</td>\n",
       "    </tr>\n",
       "    <tr>\n",
       "      <th>realinv</th>\n",
       "      <td>203.0</td>\n",
       "      <td>1012.863862</td>\n",
       "      <td>585.102267</td>\n",
       "      <td>259.764</td>\n",
       "      <td>519.1475</td>\n",
       "      <td>896.210</td>\n",
       "      <td>1436.6815</td>\n",
       "      <td>2264.721</td>\n",
       "    </tr>\n",
       "    <tr>\n",
       "      <th>realgovt</th>\n",
       "      <td>203.0</td>\n",
       "      <td>663.328640</td>\n",
       "      <td>140.863655</td>\n",
       "      <td>460.400</td>\n",
       "      <td>527.9595</td>\n",
       "      <td>662.412</td>\n",
       "      <td>773.0490</td>\n",
       "      <td>1044.088</td>\n",
       "    </tr>\n",
       "    <tr>\n",
       "      <th>realdpi</th>\n",
       "      <td>203.0</td>\n",
       "      <td>5310.540887</td>\n",
       "      <td>2423.515977</td>\n",
       "      <td>1886.900</td>\n",
       "      <td>3276.9500</td>\n",
       "      <td>4959.400</td>\n",
       "      <td>6977.8500</td>\n",
       "      <td>10077.500</td>\n",
       "    </tr>\n",
       "    <tr>\n",
       "      <th>cpi</th>\n",
       "      <td>203.0</td>\n",
       "      <td>105.075788</td>\n",
       "      <td>61.278878</td>\n",
       "      <td>28.980</td>\n",
       "      <td>41.0500</td>\n",
       "      <td>104.100</td>\n",
       "      <td>159.6500</td>\n",
       "      <td>218.610</td>\n",
       "    </tr>\n",
       "    <tr>\n",
       "      <th>m1</th>\n",
       "      <td>203.0</td>\n",
       "      <td>667.927586</td>\n",
       "      <td>455.346381</td>\n",
       "      <td>139.600</td>\n",
       "      <td>228.6500</td>\n",
       "      <td>540.900</td>\n",
       "      <td>1102.1000</td>\n",
       "      <td>1673.900</td>\n",
       "    </tr>\n",
       "    <tr>\n",
       "      <th>tbilrate</th>\n",
       "      <td>203.0</td>\n",
       "      <td>5.311773</td>\n",
       "      <td>2.803071</td>\n",
       "      <td>0.120</td>\n",
       "      <td>3.5150</td>\n",
       "      <td>5.010</td>\n",
       "      <td>6.6650</td>\n",
       "      <td>15.330</td>\n",
       "    </tr>\n",
       "    <tr>\n",
       "      <th>unemp</th>\n",
       "      <td>203.0</td>\n",
       "      <td>5.884729</td>\n",
       "      <td>1.458574</td>\n",
       "      <td>3.400</td>\n",
       "      <td>4.9000</td>\n",
       "      <td>5.700</td>\n",
       "      <td>6.8000</td>\n",
       "      <td>10.700</td>\n",
       "    </tr>\n",
       "    <tr>\n",
       "      <th>pop</th>\n",
       "      <td>203.0</td>\n",
       "      <td>239.724153</td>\n",
       "      <td>37.390450</td>\n",
       "      <td>177.146</td>\n",
       "      <td>208.6310</td>\n",
       "      <td>236.348</td>\n",
       "      <td>271.7215</td>\n",
       "      <td>308.013</td>\n",
       "    </tr>\n",
       "    <tr>\n",
       "      <th>infl</th>\n",
       "      <td>203.0</td>\n",
       "      <td>3.961330</td>\n",
       "      <td>3.253216</td>\n",
       "      <td>-8.790</td>\n",
       "      <td>2.2700</td>\n",
       "      <td>3.240</td>\n",
       "      <td>4.9750</td>\n",
       "      <td>14.620</td>\n",
       "    </tr>\n",
       "    <tr>\n",
       "      <th>realint</th>\n",
       "      <td>203.0</td>\n",
       "      <td>1.336502</td>\n",
       "      <td>2.668799</td>\n",
       "      <td>-6.790</td>\n",
       "      <td>-0.0850</td>\n",
       "      <td>1.340</td>\n",
       "      <td>2.6300</td>\n",
       "      <td>10.950</td>\n",
       "    </tr>\n",
       "  </tbody>\n",
       "</table>\n",
       "</div>"
      ],
      "text/plain": [
       "          count         mean          std       min        25%       50%  \\\n",
       "year      203.0  1983.876847    14.686817  1959.000  1971.0000  1984.000   \n",
       "quarter   203.0     2.492611     1.118563     1.000     1.5000     2.000   \n",
       "realgdp   203.0  7221.171901  3214.956044  2710.349  4440.1035  6559.594   \n",
       "realcons  203.0  4825.293103  2313.346192  1707.400  2874.1000  4299.900   \n",
       "realinv   203.0  1012.863862   585.102267   259.764   519.1475   896.210   \n",
       "realgovt  203.0   663.328640   140.863655   460.400   527.9595   662.412   \n",
       "realdpi   203.0  5310.540887  2423.515977  1886.900  3276.9500  4959.400   \n",
       "cpi       203.0   105.075788    61.278878    28.980    41.0500   104.100   \n",
       "m1        203.0   667.927586   455.346381   139.600   228.6500   540.900   \n",
       "tbilrate  203.0     5.311773     2.803071     0.120     3.5150     5.010   \n",
       "unemp     203.0     5.884729     1.458574     3.400     4.9000     5.700   \n",
       "pop       203.0   239.724153    37.390450   177.146   208.6310   236.348   \n",
       "infl      203.0     3.961330     3.253216    -8.790     2.2700     3.240   \n",
       "realint   203.0     1.336502     2.668799    -6.790    -0.0850     1.340   \n",
       "\n",
       "                75%        max  \n",
       "year      1996.5000   2009.000  \n",
       "quarter      3.0000      4.000  \n",
       "realgdp   9629.3465  13415.266  \n",
       "realcons  6398.1500   9363.600  \n",
       "realinv   1436.6815   2264.721  \n",
       "realgovt   773.0490   1044.088  \n",
       "realdpi   6977.8500  10077.500  \n",
       "cpi        159.6500    218.610  \n",
       "m1        1102.1000   1673.900  \n",
       "tbilrate     6.6650     15.330  \n",
       "unemp        6.8000     10.700  \n",
       "pop        271.7215    308.013  \n",
       "infl         4.9750     14.620  \n",
       "realint      2.6300     10.950  "
      ]
     },
     "execution_count": 17,
     "metadata": {},
     "output_type": "execute_result"
    }
   ],
   "source": [
    "# to display all the columns \n",
    "macro_data.describe().T"
   ]
  },
  {
   "cell_type": "code",
   "execution_count": 19,
   "id": "6567f306-d68c-4764-bbee-e93e256327df",
   "metadata": {},
   "outputs": [
    {
     "data": {
      "text/plain": [
       "unemp\n",
       "5.6     10\n",
       "5.5     10\n",
       "5.7     10\n",
       "5.3      9\n",
       "5.2      8\n",
       "5.9      8\n",
       "5.8      7\n",
       "7.4      7\n",
       "6.0      7\n",
       "4.7      6\n",
       "6.6      6\n",
       "3.8      5\n",
       "4.4      5\n",
       "4.8      5\n",
       "4.9      5\n",
       "5.0      5\n",
       "6.8      5\n",
       "7.0      4\n",
       "6.3      4\n",
       "7.3      4\n",
       "5.4      4\n",
       "3.9      4\n",
       "7.6      3\n",
       "5.1      3\n",
       "6.9      3\n",
       "7.1      3\n",
       "4.2      3\n",
       "7.7      3\n",
       "4.5      3\n",
       "3.4      3\n",
       "6.2      3\n",
       "7.2      3\n",
       "8.5      2\n",
       "4.1      2\n",
       "8.2      2\n",
       "6.1      2\n",
       "3.5      2\n",
       "7.5      2\n",
       "3.7      2\n",
       "4.0      2\n",
       "9.4      2\n",
       "4.3      2\n",
       "3.6      2\n",
       "8.1      1\n",
       "4.6      1\n",
       "9.2      1\n",
       "8.9      1\n",
       "7.9      1\n",
       "10.1     1\n",
       "10.4     1\n",
       "10.7     1\n",
       "9.9      1\n",
       "8.8      1\n",
       "7.8      1\n",
       "8.3      1\n",
       "9.6      1\n",
       "Name: count, dtype: int64"
      ]
     },
     "execution_count": 19,
     "metadata": {},
     "output_type": "execute_result"
    }
   ],
   "source": [
    "# every columns is a series and each one have there own data types\n",
    "macro_data['unemp'].value_counts()"
   ]
  },
  {
   "cell_type": "code",
   "execution_count": 23,
   "id": "f0385f86-84a8-4d6d-ab00-9716d97e7c8e",
   "metadata": {},
   "outputs": [
    {
     "data": {
      "text/plain": [
       "0    5.8\n",
       "1    5.1\n",
       "2    5.3\n",
       "3    5.6\n",
       "4    5.2\n",
       "Name: unemp, dtype: float64"
      ]
     },
     "execution_count": 23,
     "metadata": {},
     "output_type": "execute_result"
    }
   ],
   "source": [
    "macro_data['unemp'].head()"
   ]
  },
  {
   "cell_type": "code",
   "execution_count": 26,
   "id": "2e7bad22-e6af-4905-a6f2-c1645917cfc1",
   "metadata": {},
   "outputs": [
    {
     "data": {
      "text/plain": [
       "<Axes: title={'center': 'Unemp Rate'}, xlabel='unemp', ylabel='count'>"
      ]
     },
     "execution_count": 26,
     "metadata": {},
     "output_type": "execute_result"
    },
    {
     "data": {
      "image/png": "[encoded data removed]",
      "text/plain": [
       "<Figure size 640x480 with 1 Axes>"
      ]
     },
     "metadata": {},
     "output_type": "display_data"
    }
   ],
   "source": [
    "plt.title('Unemp Rate')\n",
    "sns.countplot(x='unemp', data=macro_data)"
   ]
  },
  {
   "cell_type": "code",
   "execution_count": 32,
   "id": "a337f2f3-d61e-4597-abfe-0f31b9fbf9b9",
   "metadata": {},
   "outputs": [
    {
     "data": {
      "text/plain": [
       "0    5.8\n",
       "1    5.1\n",
       "2    5.3\n",
       "3    5.6\n",
       "4    5.2\n",
       "Name: unemp, dtype: float64"
      ]
     },
     "execution_count": 32,
     "metadata": {},
     "output_type": "execute_result"
    }
   ],
   "source": [
    "macro_data['unemp']"
   ]
  },
  {
   "cell_type": "code",
   "execution_count": 53,
   "id": "42af7df6-bcab-4b55-b594-a466472e1fd3",
   "metadata": {},
   "outputs": [
    {
     "data": {
      "image/png": "[encoded data removed]",
      "text/plain": [
       "<Figure size 700x700 with 1 Axes>"
      ]
     },
     "metadata": {},
     "output_type": "display_data"
    }
   ],
   "source": [
    "plt.figure(figsize=(7,7))\n",
    "plt.title('random description')\n",
    "sns.barplot(\n",
    "    x = 'cpi',\n",
    "    y = 'm1',\n",
    "    data = df_test\n",
    ");\n"
   ]
  },
  {
   "cell_type": "markdown",
   "id": "b2a0a719-cdfb-484d-a9d3-774b2e1815be",
   "metadata": {
    "jp-MarkdownHeadingCollapsed": true
   },
   "source": [
    "## Data preparation \n",
    "- Droping inrelevant columns and rows\n",
    "- identify duplacate columns\n",
    "- Renaming columns\n",
    "- feature creation"
   ]
  },
  {
   "cell_type": "code",
   "execution_count": null,
   "id": "3b0f3b68-bb41-4ce3-bfcc-6b300c6723c3",
   "metadata": {},
   "outputs": [],
   "source": [
    "macro_data.tail()"
   ]
  },
  {
   "cell_type": "markdown",
   "id": "29782762-677e-413f-883d-99986007dbdf",
   "metadata": {
    "jp-MarkdownHeadingCollapsed": true
   },
   "source": [
    "## drop columns \n",
    "- use drop methode to drop some columns .drop()\n",
    "- nd also use copy() at the end to let know python this is a copy of data set and not a reference"
   ]
  },
  {
   "cell_type": "code",
   "execution_count": null,
   "id": "a798d561-41e6-4efc-a1a4-96e46a565789",
   "metadata": {},
   "outputs": [],
   "source": [
    "macro_data.drop(['m1'], axis=1)"
   ]
  },
  {
   "cell_type": "markdown",
   "id": "5045d4e5-4fa3-4a47-b99e-8d93c16da77b",
   "metadata": {},
   "source": [
    "## convert a specific columns\n",
    "-- using df['random_columns'].to_datetime()"
   ]
  },
  {
   "cell_type": "code",
   "execution_count": null,
   "id": "bfc3b003-5b43-4525-b1ab-301c72d8f061",
   "metadata": {},
   "outputs": [],
   "source": [
    "macro_data.dtypes"
   ]
  },
  {
   "cell_type": "code",
   "execution_count": null,
   "id": "cbbbe115-cc98-4953-aeca-73d4d082fb3a",
   "metadata": {},
   "outputs": [],
   "source": [
    "## Rename columns"
   ]
  },
  {
   "cell_type": "code",
   "execution_count": null,
   "id": "b050a923-42a6-448a-9750-b3a377f7591e",
   "metadata": {},
   "outputs": [],
   "source": [
    "macro_data.head()"
   ]
  },
  {
   "cell_type": "code",
   "execution_count": null,
   "id": "668a76ee-1d51-4e73-b255-09c2ebf72920",
   "metadata": {},
   "outputs": [],
   "source": [
    "new_macro_dt =  macro_data.rename(columns={'unemp': 'Unemp',\n",
    "                           'm1': 'M1'})"
   ]
  },
  {
   "cell_type": "code",
   "execution_count": null,
   "id": "02f3cba0-5713-495d-a24d-328fade8c5c5",
   "metadata": {},
   "outputs": [],
   "source": [
    "new_macro_dt.head()"
   ]
  },
  {
   "cell_type": "code",
   "execution_count": null,
   "id": "08b31d52-c84a-46b2-95b2-48e199bcf16a",
   "metadata": {},
   "outputs": [],
   "source": [
    "# identify missing or null value"
   ]
  },
  {
   "cell_type": "code",
   "execution_count": null,
   "id": "13fa5c24-71ac-4e4e-b673-80214d9d9426",
   "metadata": {},
   "outputs": [],
   "source": [
    "new_macro_dt.isna().sum()"
   ]
  },
  {
   "cell_type": "code",
   "execution_count": null,
   "id": "8001ef87-a310-4191-a643-8c2735e9d184",
   "metadata": {},
   "outputs": [],
   "source": [
    "# identify duplacate \n",
    "new_macro_dt.duplicated()"
   ]
  },
  {
   "cell_type": "markdown",
   "id": "e06a7c45-75bc-4a96-965f-6b4507e60c07",
   "metadata": {},
   "source": [
    "## step 3: Features Understanding\n",
    "(Univariable analysis)\n",
    "- ploting Feature distribution\n",
    "- histogram\n",
    "- KDE\n",
    "- Boxplot"
   ]
  },
  {
   "cell_type": "code",
   "execution_count": null,
   "id": "7702b339-ce3a-419d-b03f-f382cd1b8671",
   "metadata": {},
   "outputs": [],
   "source": []
  },
  {
   "cell_type": "code",
   "execution_count": null,
   "id": "b1c4eebd-6bf5-4f19-8cce-30a58e4af441",
   "metadata": {},
   "outputs": [],
   "source": []
  },
  {
   "cell_type": "code",
   "execution_count": null,
   "id": "cd1e49a7-ba7e-4b62-8e99-a50963fe09d4",
   "metadata": {},
   "outputs": [],
   "source": []
  },
  {
   "cell_type": "code",
   "execution_count": null,
   "id": "3b924b29-c2ec-41e6-9422-9d2e06fb8eb3",
   "metadata": {},
   "outputs": [],
   "source": []
  }
 ],
 "metadata": {
  "kernelspec": {
   "display_name": "Python 3 (ipykernel)",
   "language": "python",
   "name": "python3"
  },
  "language_info": {
   "codemirror_mode": {
    "name": "ipython",
    "version": 3
   },
   "file_extension": ".py",
   "mimetype": "text/x-python",
   "name": "python",
   "nbconvert_exporter": "python",
   "pygments_lexer": "ipython3",
   "version": "3.8.10"
  }
 },
 "nbformat": 4,
 "nbformat_minor": 5
}
